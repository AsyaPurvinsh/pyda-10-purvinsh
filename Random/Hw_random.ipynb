{
 "cells": [
  {
   "cell_type": "code",
   "execution_count": 9,
   "metadata": {},
   "outputs": [],
   "source": [
    "import numpy as np\n",
    "import pandas as pd\n",
    "import re"
   ]
  },
  {
   "cell_type": "code",
   "execution_count": 61,
   "metadata": {},
   "outputs": [
    {
     "data": {
      "text/plain": [
       "100"
      ]
     },
     "execution_count": 61,
     "metadata": {},
     "output_type": "execute_result"
    }
   ],
   "source": [
    "#кол-во значений **0 = 90 (минус заканчивающиеся на 00)\n",
    "len(re.findall(r'10.0 ', str(np.arange(0,1000))))"
   ]
  },
  {
   "cell_type": "code",
   "execution_count": 60,
   "metadata": {},
   "outputs": [
    {
     "data": {
      "text/plain": [
       "9"
      ]
     },
     "execution_count": 60,
     "metadata": {},
     "output_type": "execute_result"
    }
   ],
   "source": [
    "#кол-во значений *00 = 10 (еще сам 0)\n",
    "len(re.findall(r'.00 ', str(np.arange(0,1000))))"
   ]
  },
  {
   "cell_type": "code",
   "execution_count": 58,
   "metadata": {},
   "outputs": [
    {
     "data": {
      "text/plain": [
       "89"
      ]
     },
     "execution_count": 58,
     "metadata": {},
     "output_type": "execute_result"
    }
   ],
   "source": [
    "#кол-во значений **7 = 89\n",
    "len(re.findall(r'.7 ', str(np.arange(0,1000))))"
   ]
  },
  {
   "cell_type": "code",
   "execution_count": 71,
   "metadata": {},
   "outputs": [
    {
     "data": {
      "text/plain": [
       "9"
      ]
     },
     "execution_count": 71,
     "metadata": {},
     "output_type": "execute_result"
    }
   ],
   "source": [
    "#кол-во значений *77 = 9\n",
    "len(re.findall(r'.77 ', str(np.arange(0,1000))))"
   ]
  },
  {
   "cell_type": "code",
   "execution_count": 139,
   "metadata": {},
   "outputs": [
    {
     "name": "stdout",
     "output_type": "stream",
     "text": [
      "-0.2022022022022023\n"
     ]
    }
   ],
   "source": [
    "#средний выигрыш (проигрыш) = мат ожидание выигрыша минус 1 рубль (стоимость игры)\n",
    "x = 90/999*1+10/999*2+89/999*3+9/999*5+1/999*10+1/999*15+1/999*50+1/999*100+1/999*200\n",
    "print(x - 1)"
   ]
  },
  {
   "cell_type": "code",
   "execution_count": 142,
   "metadata": {},
   "outputs": [
    {
     "name": "stdout",
     "output_type": "stream",
     "text": [
      "8033530\n"
     ]
    }
   ],
   "source": [
    "trials = 10000000\n",
    "prize = 0\n",
    "\n",
    "for i in range(trials):\n",
    "    x = np.random.randint(0, 1000)\n",
    "    if x == 777:\n",
    "        prize += 200\n",
    "    elif x == 999:\n",
    "        prize += 100\n",
    "    elif x == 555:\n",
    "        prize += 50\n",
    "    elif x == 333:\n",
    "        prize += 15    \n",
    "    elif x == 111:\n",
    "        prize += 10    \n",
    "    elif x % 100 == 77:\n",
    "        prize += 5\n",
    "    elif x % 100 == 0:\n",
    "        prize += 2\n",
    "    elif x % 10 == 7:\n",
    "        prize += 3    \n",
    "    elif x % 10 == 0:\n",
    "        prize += 1 \n",
    "    \n",
    "print(prize)"
   ]
  },
  {
   "cell_type": "code",
   "execution_count": 143,
   "metadata": {},
   "outputs": [
    {
     "data": {
      "text/plain": [
       "-0.19664700000000002"
      ]
     },
     "execution_count": 143,
     "metadata": {},
     "output_type": "execute_result"
    }
   ],
   "source": [
    "#средний выигрыш (проигрыш) = среднее значение выигрыша минус 1 рубль (стоимость игры)\n",
    "prize/trials-1"
   ]
  },
  {
   "cell_type": "markdown",
   "metadata": {},
   "source": [
    "Величина среднего выигрыша (проигрыша) практически равны при теоретическом расчете и моделировании"
   ]
  }
 ],
 "metadata": {
  "kernelspec": {
   "display_name": "Python 3",
   "language": "python",
   "name": "python3"
  },
  "language_info": {
   "codemirror_mode": {
    "name": "ipython",
    "version": 3
   },
   "file_extension": ".py",
   "mimetype": "text/x-python",
   "name": "python",
   "nbconvert_exporter": "python",
   "pygments_lexer": "ipython3",
   "version": "3.7.6"
  }
 },
 "nbformat": 4,
 "nbformat_minor": 4
}
