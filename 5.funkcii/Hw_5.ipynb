{
 "cells": [
  {
   "cell_type": "code",
   "execution_count": 1,
   "metadata": {},
   "outputs": [],
   "source": [
    "documents = [\n",
    "    {'type': 'passport', 'number': '2207 876234', 'name': 'Василий Гупкин'},\n",
    "    {'type': 'invoice', 'number': '11-2', 'name': 'Геннадий Покемонов'},\n",
    "    {'type': 'insurance', 'number': '10006', 'name': 'Аристарх Павлов'}\n",
    "]\n",
    "    \n",
    "directories = {\n",
    "    '1': ['2207 876234', '11-2'],\n",
    "    '2': ['10006'],\n",
    "    '3': []\n",
    "}   "
   ]
  },
  {
   "cell_type": "markdown",
   "metadata": {},
   "source": [
    "1. p – people – команда, которая спросит номер документа и выведет имя человека, которому он принадлежит;"
   ]
  },
  {
   "cell_type": "code",
   "execution_count": 5,
   "metadata": {},
   "outputs": [],
   "source": [
    "def name(number_dock):\n",
    "    for person in documents:\n",
    "        if person['number'] == number_dock:\n",
    "            result = person['name']\n",
    "    print(result)"
   ]
  },
  {
   "cell_type": "code",
   "execution_count": 7,
   "metadata": {},
   "outputs": [
    {
     "name": "stdout",
     "output_type": "stream",
     "text": [
      "Введите команду p\n",
      "Введите номер документа 11-2\n",
      "Геннадий Покемонов\n"
     ]
    }
   ],
   "source": [
    "def main1():\n",
    "    user_input = input('Введите команду ')\n",
    "    if user_input == 'p':\n",
    "        user_input_number = input('Введите номер документа ')\n",
    "        name(user_input_number)\n",
    "\n",
    "main1()"
   ]
  },
  {
   "cell_type": "markdown",
   "metadata": {},
   "source": [
    "2. s – shelf – команда, которая спросит номер документа и выведет номер полки, на которой он находится"
   ]
  },
  {
   "cell_type": "code",
   "execution_count": null,
   "metadata": {},
   "outputs": [],
   "source": [
    "#проверка документа на сущестование\n",
    "def check_doc(number_dock):\n",
    "    doc_number = []\n",
    "    for person in documents:\n",
    "        doc_number.append(person['number'])\n",
    "    if number_dock in doc_number:\n",
    "        result = True\n",
    "        return result    "
   ]
  },
  {
   "cell_type": "code",
   "execution_count": null,
   "metadata": {},
   "outputs": [],
   "source": [
    "def shelf(number_dock):\n",
    "    if check_doc(number_dock) is True:\n",
    "        for el in directories.items():\n",
    "            if number_dock in el[1]:\n",
    "                result = el[0]    \n",
    "        print(result)\n",
    "    else:\n",
    "        print('Документа таким номером не существует')"
   ]
  },
  {
   "cell_type": "code",
   "execution_count": null,
   "metadata": {},
   "outputs": [],
   "source": [
    "def main2():\n",
    "    user_input = input('Введите команду ')\n",
    "    if user_input == 's':\n",
    "        user_input_number = input('Введите номер ')\n",
    "        shelf(user_input_number)\n",
    "main2()    "
   ]
  },
  {
   "cell_type": "markdown",
   "metadata": {},
   "source": [
    "3. l – list – команда, которая выведет список всех документов в формате passport \"2207 876234\" \"Василий Гупкин\""
   ]
  },
  {
   "cell_type": "code",
   "execution_count": null,
   "metadata": {},
   "outputs": [],
   "source": [
    "def print_list():\n",
    "    for person in documents:\n",
    "        print(person['type'], ' \"', person['number'], '\" \"', person['name'], '\"', sep='', end='\\n')"
   ]
  },
  {
   "cell_type": "code",
   "execution_count": null,
   "metadata": {},
   "outputs": [],
   "source": [
    "def main3():\n",
    "    user_input = input('Введите команду ')\n",
    "    if user_input == 'l':\n",
    "        print_list()\n",
    "main3()    "
   ]
  },
  {
   "cell_type": "markdown",
   "metadata": {},
   "source": [
    "4. as – add shelf – команда, которая спросит номер новой полки и добавит ее в перечень. Предусмотрите случай, когда пользователь добавляет полку, которая уже существует."
   ]
  },
  {
   "cell_type": "code",
   "execution_count": null,
   "metadata": {},
   "outputs": [],
   "source": [
    "#проверка полки на сущестование\n",
    "def check_shelf(number_shelf):\n",
    "    if number_shelf in directories:\n",
    "        result = True\n",
    "        return result        "
   ]
  },
  {
   "cell_type": "code",
   "execution_count": null,
   "metadata": {},
   "outputs": [],
   "source": [
    "def new_shelf(number_shelf):\n",
    "    if check_shelf(number_shelf) is True :\n",
    "        print('Полка уже существует')\n",
    "    else:\n",
    "        directories.setdefault(number_shelf, [])  \n",
    "        "
   ]
  },
  {
   "cell_type": "code",
   "execution_count": null,
   "metadata": {},
   "outputs": [],
   "source": [
    "def main4():\n",
    "    user_input = input('Введите команду ')\n",
    "    if user_input == 'as':\n",
    "        user_input_shelf = input('Введите номер новой полки ')\n",
    "        new_shelf(user_input_shelf)\n",
    "\n",
    "main4()            "
   ]
  },
  {
   "cell_type": "markdown",
   "metadata": {},
   "source": [
    "5. d – delete – команда, которая спросит номер документа и удалит его из каталога и из перечня полок. Предусмотрите сценарий, когда пользователь вводит несуществующий документ;"
   ]
  },
  {
   "cell_type": "code",
   "execution_count": null,
   "metadata": {},
   "outputs": [],
   "source": [
    "def delete_doc(number_dock):\n",
    "    if check_doc(number_dock) is True:\n",
    "        for i, person in enumerate(documents):\n",
    "            if number_dock == person['number']:\n",
    "                del(documents[i])\n",
    "        for shelf in directories.items():\n",
    "            if number_dock in shelf[1]:\n",
    "                shelf[1].remove(number_dock)     \n",
    "    else:\n",
    "        print('Документа с таким номером не существует')"
   ]
  },
  {
   "cell_type": "code",
   "execution_count": null,
   "metadata": {},
   "outputs": [],
   "source": [
    "def main5():\n",
    "    user_input = input('Введите команду ')\n",
    "    if user_input == 'd':\n",
    "        user_input_number = input('Введите номер ')\n",
    "        delete_doc(user_input_number)\n",
    "main5()"
   ]
  },
  {
   "cell_type": "markdown",
   "metadata": {},
   "source": [
    "6. m – move – команда, которая спросит номер документа и целевую полку и переместит его с текущей полки на целевую. Корректно обработайте кейсы, когда пользователь пытается переместить несуществующий документ или переместить документ на несуществующую полку;"
   ]
  },
  {
   "cell_type": "code",
   "execution_count": null,
   "metadata": {},
   "outputs": [],
   "source": [
    "def move_doc(number_dock, number_shelf):\n",
    "    if check_doc(number_dock) is not True:\n",
    "        print('Документа с таким номером не существует')\n",
    "    if check_shelf(number_shelf) is not True:\n",
    "        print('Полки с таким номером не существует')         \n",
    "    if check_doc(number_dock) is True and check_shelf(number_shelf) is True:\n",
    "        for el in directories.items():\n",
    "            if number_dock in el[1]:\n",
    "                el[1].remove(number_dock)\n",
    "        for el in directories.items():\n",
    "            if number_shelf in el[0]:\n",
    "                el[1].append(number_dock)\n",
    "    "
   ]
  },
  {
   "cell_type": "code",
   "execution_count": null,
   "metadata": {},
   "outputs": [],
   "source": [
    "def main6():\n",
    "    user_input = input('Введите команду ')\n",
    "    if user_input == 'm':\n",
    "        user_input_number_dock = input('Введите номер документа ')\n",
    "        user_input_number_shelf = input('Введите номер целевой полки ')\n",
    "        move_doc(user_input_number_dock, user_input_number_shelf)\n",
    "        \n",
    "main6()        "
   ]
  },
  {
   "cell_type": "markdown",
   "metadata": {},
   "source": [
    "7. a – add – команда, которая добавит новый документ в каталог и в перечень полок, спросив его номер, тип, имя владельца и номер полки, на котором он будет храниться. Корректно обработайте ситуацию, когда пользователь будет пытаться добавить документ на несуществующую полку."
   ]
  },
  {
   "cell_type": "code",
   "execution_count": null,
   "metadata": {},
   "outputs": [],
   "source": [
    "def add_dock(type_dock, number_dock, name_dock, number_shelf):\n",
    "    if check_shelf(number_shelf) is True:\n",
    "        documents.append({'type': type_dock, 'number': number_dock, 'name': name_dock})\n",
    "        for el in directories.items():\n",
    "            if number_shelf in el[0]:\n",
    "                el[1].append(number_dock)\n",
    "    else:\n",
    "        print('Полки с таким номером не существует')"
   ]
  },
  {
   "cell_type": "code",
   "execution_count": null,
   "metadata": {},
   "outputs": [],
   "source": [
    "def main7():\n",
    "    user_input = input('Введите команду ')\n",
    "    if user_input == 'a':\n",
    "        user_input_type_dock = input('Введите тип документа ')\n",
    "        user_input_number_dock = input('Введите номер документа ')\n",
    "        user_input_name_dock = input('Введите имя ')\n",
    "        user_input_number_shelf = input('Введите номер целевой полки ')\n",
    "        add_dock(user_input_type_dock, user_input_number_dock, user_input_name_dock, user_input_number_shelf) \n",
    "         \n",
    "main7()        "
   ]
  },
  {
   "cell_type": "code",
   "execution_count": null,
   "metadata": {},
   "outputs": [],
   "source": [
    "#Объединим все функции в одну:\n",
    "\n",
    "def main():\n",
    "    user_input = input('Введите команду ')\n",
    "    if user_input == 'p':\n",
    "        user_input_number_1 = input('Введите номер документа ')\n",
    "        name(user_input_number_1)\n",
    "    elif user_input == 's':\n",
    "        user_input_number_2 = input('Введите номер документа ')\n",
    "        shelf(user_input_number_2)\n",
    "    elif user_input == 'l':\n",
    "        print_list()\n",
    "    elif user_input == 'as':\n",
    "        user_input_shelf_1 = input('Введите номер новой полки ')\n",
    "        new_shelf(user_input_shelf_1)   \n",
    "    elif user_input == 'd':\n",
    "        user_input_number_3 = input('Введите номер документа ')\n",
    "        delete_doc(user_input_number_3)\n",
    "    elif user_input == 'm':\n",
    "        user_input_number_dock_1 = input('Введите номер документа ')\n",
    "        user_input_number_shelf_1 = input('Введите номер целевой полки ')\n",
    "        move_doc(user_input_number_dock_1, user_input_number_shelf_1)\n",
    "    elif user_input == 'a':\n",
    "        user_input_type_dock = input('Введите тип документа ')\n",
    "        user_input_number_dock_2 = input('Введите номер документа ')\n",
    "        user_input_name_dock = input('Введите имя ')\n",
    "        user_input_number_shelf_2 = input('Введите номер целевой полки ')\n",
    "        add_dock(user_input_type_dock, user_input_number_dock_2, user_input_name_dock, user_input_number_shelf_2)    \n",
    "    else:\n",
    "        print('Команды не существует')\n",
    "    \n",
    "main()"
   ]
  }
 ],
 "metadata": {
  "kernelspec": {
   "display_name": "Python 3",
   "language": "python",
   "name": "python3"
  },
  "language_info": {
   "codemirror_mode": {
    "name": "ipython",
    "version": 3
   },
   "file_extension": ".py",
   "mimetype": "text/x-python",
   "name": "python",
   "nbconvert_exporter": "python",
   "pygments_lexer": "ipython3",
   "version": "3.7.6"
  }
 },
 "nbformat": 4,
 "nbformat_minor": 4
}
