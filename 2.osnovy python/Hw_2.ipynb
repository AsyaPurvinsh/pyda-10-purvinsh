{
 "cells": [
  {
   "cell_type": "markdown",
   "metadata": {},
   "source": [
    "Задание 1. Даны 2 строки: long_phrase и short_phrase. Напишите код, который проверяет действительно ли длинная фраза long_phrase длиннее короткой short_phrase. И выводит True или False в зависимости от результата сравнения."
   ]
  },
  {
   "cell_type": "code",
   "execution_count": 2,
   "metadata": {},
   "outputs": [
    {
     "data": {
      "text/plain": [
       "True"
      ]
     },
     "execution_count": 2,
     "metadata": {},
     "output_type": "execute_result"
    }
   ],
   "source": [
    "long_phrase = 'Насколько проще было бы писать программы, если бы не заказчики'\n",
    "short_phrase = '640Кб должно хватить для любых задач. Билл Гейтс (по легенде)'\n",
    "len(long_phrase) >  len(short_phrase)"
   ]
  },
  {
   "cell_type": "markdown",
   "metadata": {},
   "source": [
    "Задание 2. Дано значение объема файла в байтах (в мегабайте 2^20 байт). Напишите перевод этого значения в мегабайты в формате: \"Объем файла равен 213.68Mb\"."
   ]
  },
  {
   "cell_type": "code",
   "execution_count": 6,
   "metadata": {},
   "outputs": [
    {
     "name": "stdout",
     "output_type": "stream",
     "text": [
      "значение объема файла в байтах 1048576\n",
      "Объем файла равен  1.0 Mb\n"
     ]
    }
   ],
   "source": [
    "byte_volume = int(input('значение объема файла в байтах '))\n",
    "print ('Объем файла равен ', byte_volume/1024/1024, 'Mb' )"
   ]
  },
  {
   "cell_type": "markdown",
   "metadata": {},
   "source": [
    "Задание 3. Разработать приложение для определения знака зодиака по дате рождения. Пример:\n",
    "\n",
    "Введите месяц: март\n",
    "\n",
    "Введите число: 6\n",
    "\n",
    "Вывод: Рыбы"
   ]
  },
  {
   "cell_type": "code",
   "execution_count": 3,
   "metadata": {},
   "outputs": [
    {
     "name": "stdout",
     "output_type": "stream",
     "text": [
      "введите месяц5\n",
      "введите число16\n",
      "Телец\n"
     ]
    }
   ],
   "source": [
    "month = int(input('введите месяц'))\n",
    "day = int(input('введите число'))    \n",
    "if month == 3 and day > 20 or month ==4 and day < 21:\n",
    "    print ('Овен')\n",
    "elif month == 4 and day > 20 or month ==5 and day < 22:\n",
    "    print ('Телец')\n",
    "elif month == 5 and day > 21 or month ==6 and day < 22:\n",
    "    print ('Близнецы')    \n",
    "elif month == 6 and day > 21 or month ==7 and day < 23:\n",
    "    print ('Рак')     \n",
    "elif month == 7 and day > 22 or month ==8 and day < 24:\n",
    "    print ('Лев') \n",
    "elif month == 8 and day > 23 or month ==9 and day < 24:\n",
    "    print ('Дева') \n",
    "elif month == 9 and day > 23 or month ==10 and day < 24:\n",
    "    print ('Весы')\n",
    "elif month == 10 and day > 23 or month ==11 and day < 23:\n",
    "    print ('Скорпион')\n",
    "elif month == 11 and day > 22 or month ==12 and day < 22:\n",
    "    print ('Стрелец')\n",
    "elif month == 12 and day > 23 or month ==1 and day < 21:\n",
    "    print ('Козерог')\n",
    "elif month == 1 and day > 22 or month ==2 and day < 19:\n",
    "    print ('Водолей')\n",
    "elif month == 2 and day > 20 or month ==3 and day < 21:\n",
    "    print ('Рыбы')"
   ]
  },
  {
   "cell_type": "markdown",
   "metadata": {},
   "source": [
    "Задание 4. Нужно разработать приложение для финансового планирования. Приложение учитывает сколько уходит на ипотеку, \"на жизнь\" и сколько нужно отложить на пенсию."
   ]
  },
  {
   "cell_type": "code",
   "execution_count": 10,
   "metadata": {},
   "outputs": [
    {
     "name": "stdout",
     "output_type": "stream",
     "text": [
      "Введите заработанную плату в месяц 100000\n",
      "Введите сколько процентов уходит на ипотеку 30\n",
      "Введите сколько процентов уходит на жизнь 50\n",
      "Введите количество премий за год 2\n",
      "На ипотеку было потрачено:  360000.0 рублей\n",
      "Было накоплено:  340000.0 рублей\n"
     ]
    }
   ],
   "source": [
    "salary = int(input('Введите заработанную плату в месяц '))\n",
    "mortgage_percent = int(input('Введите сколько процентов уходит на ипотеку '))\n",
    "life_percent = int(input('Введите сколько процентов уходит на жизнь '))\n",
    "bonuses = int(input('Введите количество премий за год '))          \n",
    "print ('На ипотеку было потрачено: ', salary * 12 * mortgage_percent / 100,'рублей')\n",
    "print ('Было накоплено: ', (salary - salary * (mortgage_percent + life_percent) / 100) * 12 + salary * bonuses / 2,'рублей')"
   ]
  }
 ],
 "metadata": {
  "kernelspec": {
   "display_name": "Python 3",
   "language": "python",
   "name": "python3"
  },
  "language_info": {
   "codemirror_mode": {
    "name": "ipython",
    "version": 3
   },
   "file_extension": ".py",
   "mimetype": "text/x-python",
   "name": "python",
   "nbconvert_exporter": "python",
   "pygments_lexer": "ipython3",
   "version": "3.7.6"
  }
 },
 "nbformat": 4,
 "nbformat_minor": 4
}
