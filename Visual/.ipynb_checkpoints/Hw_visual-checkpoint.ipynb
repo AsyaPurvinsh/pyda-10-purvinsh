{
 "cells": [
  {
   "cell_type": "code",
   "execution_count": 1,
   "metadata": {},
   "outputs": [],
   "source": [
    "import pandas as pd\n",
    "import matplotlib.pyplot as plt\n",
    "import seaborn as sns"
   ]
  },
  {
   "cell_type": "markdown",
   "metadata": {},
   "source": [
    "Ссылка на датафрейм https://www.kaggle.com/zynicide/wine-reviews"
   ]
  },
  {
   "cell_type": "code",
   "execution_count": 2,
   "metadata": {},
   "outputs": [],
   "source": [
    "all_data = pd.read_csv('winemag-data-130k-v2.csv')"
   ]
  },
  {
   "cell_type": "code",
   "execution_count": 3,
   "metadata": {},
   "outputs": [],
   "source": [
    "#оставим только интересующие данные и уберем строки с пропусками\n",
    "data = all_data[['country','points','price','title','variety','winery']]\n",
    "data = data.dropna()"
   ]
  },
  {
   "cell_type": "code",
   "execution_count": 4,
   "metadata": {},
   "outputs": [
    {
     "name": "stdout",
     "output_type": "stream",
     "text": [
      "<class 'pandas.core.frame.DataFrame'>\n",
      "Int64Index: 120915 entries, 1 to 129970\n",
      "Data columns (total 6 columns):\n",
      " #   Column   Non-Null Count   Dtype  \n",
      "---  ------   --------------   -----  \n",
      " 0   country  120915 non-null  object \n",
      " 1   points   120915 non-null  int64  \n",
      " 2   price    120915 non-null  float64\n",
      " 3   title    120915 non-null  object \n",
      " 4   variety  120915 non-null  object \n",
      " 5   winery   120915 non-null  object \n",
      "dtypes: float64(1), int64(1), object(4)\n",
      "memory usage: 6.5+ MB\n"
     ]
    }
   ],
   "source": [
    "data.info()"
   ]
  },
  {
   "cell_type": "code",
   "execution_count": 5,
   "metadata": {},
   "outputs": [
    {
     "data": {
      "text/html": [
       "<div>\n",
       "<style scoped>\n",
       "    .dataframe tbody tr th:only-of-type {\n",
       "        vertical-align: middle;\n",
       "    }\n",
       "\n",
       "    .dataframe tbody tr th {\n",
       "        vertical-align: top;\n",
       "    }\n",
       "\n",
       "    .dataframe thead th {\n",
       "        text-align: right;\n",
       "    }\n",
       "</style>\n",
       "<table border=\"1\" class=\"dataframe\">\n",
       "  <thead>\n",
       "    <tr style=\"text-align: right;\">\n",
       "      <th></th>\n",
       "      <th>country</th>\n",
       "      <th>points</th>\n",
       "      <th>price</th>\n",
       "      <th>title</th>\n",
       "      <th>variety</th>\n",
       "      <th>winery</th>\n",
       "    </tr>\n",
       "  </thead>\n",
       "  <tbody>\n",
       "    <tr>\n",
       "      <th>1</th>\n",
       "      <td>Portugal</td>\n",
       "      <td>87</td>\n",
       "      <td>15.0</td>\n",
       "      <td>Quinta dos Avidagos 2011 Avidagos Red (Douro)</td>\n",
       "      <td>Portuguese Red</td>\n",
       "      <td>Quinta dos Avidagos</td>\n",
       "    </tr>\n",
       "    <tr>\n",
       "      <th>2</th>\n",
       "      <td>US</td>\n",
       "      <td>87</td>\n",
       "      <td>14.0</td>\n",
       "      <td>Rainstorm 2013 Pinot Gris (Willamette Valley)</td>\n",
       "      <td>Pinot Gris</td>\n",
       "      <td>Rainstorm</td>\n",
       "    </tr>\n",
       "    <tr>\n",
       "      <th>3</th>\n",
       "      <td>US</td>\n",
       "      <td>87</td>\n",
       "      <td>13.0</td>\n",
       "      <td>St. Julian 2013 Reserve Late Harvest Riesling ...</td>\n",
       "      <td>Riesling</td>\n",
       "      <td>St. Julian</td>\n",
       "    </tr>\n",
       "    <tr>\n",
       "      <th>4</th>\n",
       "      <td>US</td>\n",
       "      <td>87</td>\n",
       "      <td>65.0</td>\n",
       "      <td>Sweet Cheeks 2012 Vintner's Reserve Wild Child...</td>\n",
       "      <td>Pinot Noir</td>\n",
       "      <td>Sweet Cheeks</td>\n",
       "    </tr>\n",
       "    <tr>\n",
       "      <th>5</th>\n",
       "      <td>Spain</td>\n",
       "      <td>87</td>\n",
       "      <td>15.0</td>\n",
       "      <td>Tandem 2011 Ars In Vitro Tempranillo-Merlot (N...</td>\n",
       "      <td>Tempranillo-Merlot</td>\n",
       "      <td>Tandem</td>\n",
       "    </tr>\n",
       "    <tr>\n",
       "      <th>...</th>\n",
       "      <td>...</td>\n",
       "      <td>...</td>\n",
       "      <td>...</td>\n",
       "      <td>...</td>\n",
       "      <td>...</td>\n",
       "      <td>...</td>\n",
       "    </tr>\n",
       "    <tr>\n",
       "      <th>129966</th>\n",
       "      <td>Germany</td>\n",
       "      <td>90</td>\n",
       "      <td>28.0</td>\n",
       "      <td>Dr. H. Thanisch (Erben Müller-Burggraef) 2013 ...</td>\n",
       "      <td>Riesling</td>\n",
       "      <td>Dr. H. Thanisch (Erben Müller-Burggraef)</td>\n",
       "    </tr>\n",
       "    <tr>\n",
       "      <th>129967</th>\n",
       "      <td>US</td>\n",
       "      <td>90</td>\n",
       "      <td>75.0</td>\n",
       "      <td>Citation 2004 Pinot Noir (Oregon)</td>\n",
       "      <td>Pinot Noir</td>\n",
       "      <td>Citation</td>\n",
       "    </tr>\n",
       "    <tr>\n",
       "      <th>129968</th>\n",
       "      <td>France</td>\n",
       "      <td>90</td>\n",
       "      <td>30.0</td>\n",
       "      <td>Domaine Gresser 2013 Kritt Gewurztraminer (Als...</td>\n",
       "      <td>Gewürztraminer</td>\n",
       "      <td>Domaine Gresser</td>\n",
       "    </tr>\n",
       "    <tr>\n",
       "      <th>129969</th>\n",
       "      <td>France</td>\n",
       "      <td>90</td>\n",
       "      <td>32.0</td>\n",
       "      <td>Domaine Marcel Deiss 2012 Pinot Gris (Alsace)</td>\n",
       "      <td>Pinot Gris</td>\n",
       "      <td>Domaine Marcel Deiss</td>\n",
       "    </tr>\n",
       "    <tr>\n",
       "      <th>129970</th>\n",
       "      <td>France</td>\n",
       "      <td>90</td>\n",
       "      <td>21.0</td>\n",
       "      <td>Domaine Schoffit 2012 Lieu-dit Harth Cuvée Car...</td>\n",
       "      <td>Gewürztraminer</td>\n",
       "      <td>Domaine Schoffit</td>\n",
       "    </tr>\n",
       "  </tbody>\n",
       "</table>\n",
       "<p>120915 rows × 6 columns</p>\n",
       "</div>"
      ],
      "text/plain": [
       "         country  points  price  \\\n",
       "1       Portugal      87   15.0   \n",
       "2             US      87   14.0   \n",
       "3             US      87   13.0   \n",
       "4             US      87   65.0   \n",
       "5          Spain      87   15.0   \n",
       "...          ...     ...    ...   \n",
       "129966   Germany      90   28.0   \n",
       "129967        US      90   75.0   \n",
       "129968    France      90   30.0   \n",
       "129969    France      90   32.0   \n",
       "129970    France      90   21.0   \n",
       "\n",
       "                                                    title             variety  \\\n",
       "1           Quinta dos Avidagos 2011 Avidagos Red (Douro)      Portuguese Red   \n",
       "2           Rainstorm 2013 Pinot Gris (Willamette Valley)          Pinot Gris   \n",
       "3       St. Julian 2013 Reserve Late Harvest Riesling ...            Riesling   \n",
       "4       Sweet Cheeks 2012 Vintner's Reserve Wild Child...          Pinot Noir   \n",
       "5       Tandem 2011 Ars In Vitro Tempranillo-Merlot (N...  Tempranillo-Merlot   \n",
       "...                                                   ...                 ...   \n",
       "129966  Dr. H. Thanisch (Erben Müller-Burggraef) 2013 ...            Riesling   \n",
       "129967                  Citation 2004 Pinot Noir (Oregon)          Pinot Noir   \n",
       "129968  Domaine Gresser 2013 Kritt Gewurztraminer (Als...      Gewürztraminer   \n",
       "129969      Domaine Marcel Deiss 2012 Pinot Gris (Alsace)          Pinot Gris   \n",
       "129970  Domaine Schoffit 2012 Lieu-dit Harth Cuvée Car...      Gewürztraminer   \n",
       "\n",
       "                                          winery  \n",
       "1                            Quinta dos Avidagos  \n",
       "2                                      Rainstorm  \n",
       "3                                     St. Julian  \n",
       "4                                   Sweet Cheeks  \n",
       "5                                         Tandem  \n",
       "...                                          ...  \n",
       "129966  Dr. H. Thanisch (Erben Müller-Burggraef)  \n",
       "129967                                  Citation  \n",
       "129968                           Domaine Gresser  \n",
       "129969                      Domaine Marcel Deiss  \n",
       "129970                          Domaine Schoffit  \n",
       "\n",
       "[120915 rows x 6 columns]"
      ]
     },
     "execution_count": 5,
     "metadata": {},
     "output_type": "execute_result"
    }
   ],
   "source": [
    "data"
   ]
  },
  {
   "cell_type": "code",
   "execution_count": 60,
   "metadata": {},
   "outputs": [
    {
     "data": {
      "text/plain": [
       "Text(0, 0.5, 'quantity')"
      ]
     },
     "execution_count": 60,
     "metadata": {},
     "output_type": "execute_result"
    },
    {
     "data": {
      "image/png": "[encoded data removed]",
      "text/plain": [
       "<Figure size 432x288 with 1 Axes>"
      ]
     },
     "metadata": {
      "needs_background": "light"
     },
     "output_type": "display_data"
    }
   ],
   "source": [
    "#Посмотрим распределение оценок\n",
    "ax = data.points.hist()\n",
    "ax.set_title('Raiting value distribution')\n",
    "ax.set_xlabel('rating')\n",
    "ax.set_ylabel('quantity')"
   ]
  },
  {
   "cell_type": "code",
   "execution_count": 9,
   "metadata": {},
   "outputs": [
    {
     "data": {
      "text/plain": [
       "<matplotlib.axes._subplots.AxesSubplot at 0x1a45caa9408>"
      ]
     },
     "execution_count": 9,
     "metadata": {},
     "output_type": "execute_result"
    },
    {
     "data": {
      "image/png": "[encoded data removed]",
      "text/plain": [
       "<Figure size 432x288 with 1 Axes>"
      ]
     },
     "metadata": {
      "needs_background": "light"
     },
     "output_type": "display_data"
    }
   ],
   "source": [
    "data.points.plot(kind='box')"
   ]
  },
  {
   "cell_type": "markdown",
   "metadata": {},
   "source": [
    "Все оценки в рейтинге выше 80 баллов с медианой около 88. Максимальный балл 100 получили единицы оцениваемых вин\n"
   ]
  },
  {
   "cell_type": "code",
   "execution_count": 33,
   "metadata": {},
   "outputs": [
    {
     "data": {
      "text/plain": [
       "<seaborn.axisgrid.JointGrid at 0x23e75b40f48>"
      ]
     },
     "execution_count": 33,
     "metadata": {},
     "output_type": "execute_result"
    },
    {
     "data": {
      "image/png": "[encoded data removed]",
      "text/plain": [
       "<Figure size 432x432 with 3 Axes>"
      ]
     },
     "metadata": {
      "needs_background": "light"
     },
     "output_type": "display_data"
    }
   ],
   "source": [
    "#Оценим кореляцию между показателями оценок и ценой\n",
    "sns.jointplot(x='points', y='price', \n",
    "              data=data, kind='scatter')"
   ]
  },
  {
   "cell_type": "markdown",
   "metadata": {},
   "source": [
    "В ценовой категории до примерно 200 уе есть представителии всех оценок от 80 до 99\n",
    "А в ценовой категории выше примерно 200 уе преимущественно вина с оценками больше 90 \n",
    "При этом самое дорогое вино с ценой больше 3000 - имеет оценку всего около 85 баллов"
   ]
  },
  {
   "cell_type": "code",
   "execution_count": 27,
   "metadata": {},
   "outputs": [
    {
     "data": {
      "text/plain": [
       "[Text(0, 0, 'Pinot Noir'),\n",
       " Text(0, 0, 'Cabernet Sauvignon'),\n",
       " Text(0, 0, 'Chardonnay'),\n",
       " Text(0, 0, 'Red Blend'),\n",
       " Text(0, 0, 'Bordeaux-style Red Blend')]"
      ]
     },
     "execution_count": 27,
     "metadata": {},
     "output_type": "execute_result"
    },
    {
     "data": {
      "image/png": "[encoded data removed]",
      "text/plain": [
       "<Figure size 432x288 with 1 Axes>"
      ]
     },
     "metadata": {
      "needs_background": "light"
     },
     "output_type": "display_data"
    }
   ],
   "source": [
    "#посмотрим оценки по 5 самым полулярным сортам винограда\n",
    "top_variety = data['variety'].value_counts().sort_values(ascending = False).head(5).index.values\n",
    "top_variety\n",
    "ax = sns.boxplot(x='variety', y='points', data=data[data.variety.isin(top_variety)])\n",
    "ax.set_xticklabels(ax.get_xticklabels(),rotation=30)"
   ]
  },
  {
   "cell_type": "markdown",
   "metadata": {},
   "source": [
    "Самые высокие оценки у вин, произведенных из винограда Pinot Noir\n",
    "Вина из сортов Cabernet Sauvignon и Chardonnay имеют приблизительно одинаковые оценки\n",
    "Сорт винограда Red Blend самый противоречивый для экспертов - много выбросов как снизу так и сверху"
   ]
  },
  {
   "cell_type": "code",
   "execution_count": 57,
   "metadata": {},
   "outputs": [
    {
     "data": {
      "text/html": [
       "<div>\n",
       "<style scoped>\n",
       "    .dataframe tbody tr th:only-of-type {\n",
       "        vertical-align: middle;\n",
       "    }\n",
       "\n",
       "    .dataframe tbody tr th {\n",
       "        vertical-align: top;\n",
       "    }\n",
       "\n",
       "    .dataframe thead th {\n",
       "        text-align: right;\n",
       "    }\n",
       "</style>\n",
       "<table border=\"1\" class=\"dataframe\">\n",
       "  <thead>\n",
       "    <tr style=\"text-align: right;\">\n",
       "      <th>country</th>\n",
       "      <th>Argentina</th>\n",
       "      <th>Australia</th>\n",
       "      <th>Austria</th>\n",
       "      <th>Chile</th>\n",
       "      <th>France</th>\n",
       "      <th>Germany</th>\n",
       "      <th>Italy</th>\n",
       "      <th>Portugal</th>\n",
       "      <th>Spain</th>\n",
       "      <th>US</th>\n",
       "    </tr>\n",
       "    <tr>\n",
       "      <th>variety</th>\n",
       "      <th></th>\n",
       "      <th></th>\n",
       "      <th></th>\n",
       "      <th></th>\n",
       "      <th></th>\n",
       "      <th></th>\n",
       "      <th></th>\n",
       "      <th></th>\n",
       "      <th></th>\n",
       "      <th></th>\n",
       "    </tr>\n",
       "  </thead>\n",
       "  <tbody>\n",
       "    <tr>\n",
       "      <th>Bordeaux-style Red Blend</th>\n",
       "      <td>86.0</td>\n",
       "      <td>29.0</td>\n",
       "      <td>2.0</td>\n",
       "      <td>37.0</td>\n",
       "      <td>3173.0</td>\n",
       "      <td>0.0</td>\n",
       "      <td>2.0</td>\n",
       "      <td>5.0</td>\n",
       "      <td>9.0</td>\n",
       "      <td>1817.0</td>\n",
       "    </tr>\n",
       "    <tr>\n",
       "      <th>Cabernet Sauvignon</th>\n",
       "      <td>536.0</td>\n",
       "      <td>263.0</td>\n",
       "      <td>5.0</td>\n",
       "      <td>764.0</td>\n",
       "      <td>53.0</td>\n",
       "      <td>0.0</td>\n",
       "      <td>118.0</td>\n",
       "      <td>15.0</td>\n",
       "      <td>52.0</td>\n",
       "      <td>7280.0</td>\n",
       "    </tr>\n",
       "    <tr>\n",
       "      <th>Chardonnay</th>\n",
       "      <td>289.0</td>\n",
       "      <td>395.0</td>\n",
       "      <td>54.0</td>\n",
       "      <td>510.0</td>\n",
       "      <td>2230.0</td>\n",
       "      <td>5.0</td>\n",
       "      <td>312.0</td>\n",
       "      <td>17.0</td>\n",
       "      <td>71.0</td>\n",
       "      <td>6773.0</td>\n",
       "    </tr>\n",
       "    <tr>\n",
       "      <th>Pinot Noir</th>\n",
       "      <td>103.0</td>\n",
       "      <td>127.0</td>\n",
       "      <td>83.0</td>\n",
       "      <td>358.0</td>\n",
       "      <td>1576.0</td>\n",
       "      <td>55.0</td>\n",
       "      <td>6.0</td>\n",
       "      <td>15.0</td>\n",
       "      <td>11.0</td>\n",
       "      <td>9857.0</td>\n",
       "    </tr>\n",
       "    <tr>\n",
       "      <th>Red Blend</th>\n",
       "      <td>227.0</td>\n",
       "      <td>66.0</td>\n",
       "      <td>82.0</td>\n",
       "      <td>404.0</td>\n",
       "      <td>270.0</td>\n",
       "      <td>8.0</td>\n",
       "      <td>3263.0</td>\n",
       "      <td>7.0</td>\n",
       "      <td>808.0</td>\n",
       "      <td>2948.0</td>\n",
       "    </tr>\n",
       "  </tbody>\n",
       "</table>\n",
       "</div>"
      ],
      "text/plain": [
       "country                   Argentina  Australia  Austria  Chile  France  \\\n",
       "variety                                                                  \n",
       "Bordeaux-style Red Blend       86.0       29.0      2.0   37.0  3173.0   \n",
       "Cabernet Sauvignon            536.0      263.0      5.0  764.0    53.0   \n",
       "Chardonnay                    289.0      395.0     54.0  510.0  2230.0   \n",
       "Pinot Noir                    103.0      127.0     83.0  358.0  1576.0   \n",
       "Red Blend                     227.0       66.0     82.0  404.0   270.0   \n",
       "\n",
       "country                   Germany   Italy  Portugal  Spain      US  \n",
       "variety                                                             \n",
       "Bordeaux-style Red Blend      0.0     2.0       5.0    9.0  1817.0  \n",
       "Cabernet Sauvignon            0.0   118.0      15.0   52.0  7280.0  \n",
       "Chardonnay                    5.0   312.0      17.0   71.0  6773.0  \n",
       "Pinot Noir                   55.0     6.0      15.0   11.0  9857.0  \n",
       "Red Blend                     8.0  3263.0       7.0  808.0  2948.0  "
      ]
     },
     "execution_count": 57,
     "metadata": {},
     "output_type": "execute_result"
    }
   ],
   "source": [
    "#Посмотрим распределение кол-ва вин по странам производства и сортам винограда, взяв самые популярные\n",
    "\n",
    "top_country = data['country'].value_counts().sort_values(ascending = False).head(10).index.values\n",
    "data_new = data[data.variety.isin(top_variety) & data.country.isin(top_country)]\n",
    "\n",
    "country_variety = data_new.pivot_table(\n",
    "                        index='variety', \n",
    "                        columns='country', \n",
    "                        values='title', \n",
    "                        aggfunc='count').fillna(0).applymap(float)\n",
    "country_variety"
   ]
  },
  {
   "cell_type": "code",
   "execution_count": 58,
   "metadata": {},
   "outputs": [
    {
     "data": {
      "image/png": "[encoded data removed]",
      "text/plain": [
       "<Figure size 432x288 with 2 Axes>"
      ]
     },
     "metadata": {
      "needs_background": "light"
     },
     "output_type": "display_data"
    }
   ],
   "source": [
    "ax = sns.heatmap(country_variety)"
   ]
  },
  {
   "cell_type": "markdown",
   "metadata": {},
   "source": [
    "Больше всего в данных представленно вин из Америки, присутсвуют вина из всех сортов винограда, но самое большое кол-во из сорта Pinot Noir\n",
    "На втром месте вина из Франции, но тут есть представители только трех сортов винограда - Bordeaux-style Red Blend, Chardonnay и Pinot Noir\n",
    "На третьем месте вина из Италии и только в одном сорте - Red Blend\n",
    "\n",
    "Остальные страны представлены незначительным количеством вин"
   ]
  }
 ],
 "metadata": {
  "kernelspec": {
   "display_name": "Python 3",
   "language": "python",
   "name": "python3"
  },
  "language_info": {
   "codemirror_mode": {
    "name": "ipython",
    "version": 3
   },
   "file_extension": ".py",
   "mimetype": "text/x-python",
   "name": "python",
   "nbconvert_exporter": "python",
   "pygments_lexer": "ipython3",
   "version": "3.7.6"
  }
 },
 "nbformat": 4,
 "nbformat_minor": 4
}
